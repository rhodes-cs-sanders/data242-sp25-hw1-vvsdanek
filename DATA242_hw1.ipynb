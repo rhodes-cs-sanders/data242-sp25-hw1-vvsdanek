{
 "cells": [
  {
   "cell_type": "markdown",
   "id": "d642c39a-e309-4091-a4f3-8bbf61dbf0de",
   "metadata": {},
   "source": [
    "#  Homework 1\n",
    "\n",
    "In this homework, I'll ask you to write a series of cells all related to a single program.  Be sure to thoroughly test your code and use good variable names. \n",
    "\n",
    "## Goals:\n",
    "* Practicing problem solving\n",
    "* Coding up mathematical equations\n",
    "  \n",
    "\n",
    "## Dachshund-Badger Simulation\n",
    "A well know fact is that dachshunds were bred to be world-class badger hunters.  In this exercise, you will create a simple simulation of a dachshund-badger population over time. The dachshund and badger populations will change based on specific rules. You will use loops, functions, and basic plotting to visualize the population dynamics.  You'll have to do a little bit of googling to figure out the plotting part:).\n",
    "\n",
    "To model the dachshund/badger population, you will simulate a simple predator-prey interaction using the Lotka-Volterra equations (a common model in biology). \n",
    "\n",
    "**Badger growth rate:**\n",
    "Badger(t+1) =Badger(t)+(α⋅Badger(t))−(β⋅Badger(t)⋅Dachshund(t))\n",
    "\n",
    "**Dachshund growth rate:**\n",
    "Dachshund(t+1)=Dachshund(t)+(δ⋅Badger(t)⋅Dachshund(t))−(γ⋅Dachshund(t))\n",
    "\n",
    "Where:\n",
    " * α: Badger birth rate\n",
    "\n",
    " * β: Death rate of badgers (depends on the predator)\n",
    "\n",
    " * δ: Dachshund reproduction rate (based on consumed badgers)\n",
    "\n",
    " * γ: Dachshunds death rate\n",
    "\n",
    "(Note: In reality, dachshunds typically just corner badgers rather than eating them, but they're known for their ferocity, so I wouldn’t put it past them. Our first dachshund once took down one of my in-laws’ chickens in an instant, yet would roll over for belly rubs from any human. They’re also notorious for barking excessively and have surprisingly large teeth for their size! )\n",
    "\n",
    "You will write a program that uses the following parameter values, and calculates and prints the populations of dachshunds and badgers for each year up to a certain amount as specified below. Since the number of dachshunds and badgers cannot be floating-point numbers, use the in-built python function round() to round-off the calculated values to integers. Also, we cannot have negative rabbits or negative foxes, so if the population values are ever negative, the population should be zero.\n",
    "\n",
    " Badger(0)= 500\n",
    "\n",
    " Dachshund(0)= 1\n",
    "\n",
    " α = 0.2\n",
    "\n",
    " β = 0.005\n",
    "\n",
    " δ= 0.001\n",
    "\n",
    " γ= 0.2\n",
    "\n",
    " As a first step to solving this problem you should create a function that takes in 6 parameters prev_badger_num, prev_dachshund_num, alpha (α), beta (β), delta (δ), and gamma (γ).  It should perform the calculation in the equation and return the current badger and dachshund count.  You can use other parameter names if you like but your function must have 6 parameters and return 2 values.  Write your function below:\n",
    " \n",
    "\n",
    "\n",
    "\n",
    " "
   ]
  },
  {
   "cell_type": "code",
   "execution_count": 13,
   "id": "ae33adcf-0c8e-4591-924f-d84f95a9d416",
   "metadata": {},
   "outputs": [],
   "source": [
    "# 10pts Function that calculates one step of the dachshund/badger equation.\n",
    "def cur_bad_n_dach(prev_badger_num, prev_dachshund_num, alpha, beta, delta, gamma):\n",
    "    cur_badger_num = prev_badger_num + ((alpha * prev_badger_num) - (beta * prev_badger_num * prev_dachshund_num))\n",
    "    cur_dachshund_num = prev_dachshund_num + ((delta * prev_badger_num * prev_dachshund_num) - (gamma * prev_dachshund_num))\n",
    "    return cur_badger_num, cur_dachshund_num\n",
    "     \n"
   ]
  },
  {
   "cell_type": "markdown",
   "id": "94d44595-16d6-4fc0-9293-b91e20a84c1a",
   "metadata": {},
   "source": [
    "Write a snippet of code that asks for a number of years (we'll consider that as our \"time step\").  Your snippet of code will use the specified values and call the function that you wrote and report the number of dachshunds and badgers at each time step.  You'll hard code that at time 0, there will be 500 badgers and 1 dachshund.  This initialization should be at the very top of your code.  Do not use a list to solve this problem.   Here's an example output from this program:\n",
    "\n",
    ">How many years?  13\n",
    ">\n",
    ">t = 0:  500 badgers,  1 dachshunds\n",
    ">\n",
    ">t = 1:  598 badgers,  1 dachshunds\n",
    ">\n",
    ">t = 2:  713 badgers,  2 dachshunds\n",
    ">\n",
    ">t = 3:  849 badgers,  3 dachshunds\n",
    ">\n",
    ">t = 4:  1007 badgers,  5 dachshunds\n",
    ">\n",
    ">t = 5:  1186 badgers,  8 dachshunds\n",
    ">\n",
    ">t = 6:  1375 badgers,  16 dachshunds\n",
    ">\n",
    ">t = 7:  1538 badgers,  35 dachshunds\n",
    ">\n",
    ">t = 8:  1573 badgers,  83 dachshunds\n",
    ">\n",
    ">t = 9:  1237 badgers,  196 dachshunds\n",
    ">\n",
    ">t = 10:  270 badgers,  400 dachshunds\n",
    ">\n",
    ">t = 11:  0 badgers,  428 dachshunds\n",
    ">\n",
    ">t = 12:  0 badgers,  342 dachshunds\n",
    ">\n",
    ">t = 13:  0 badgers,  274 dachshunds\n",
    "\n",
    "\n",
    "\n"
   ]
  },
  {
   "cell_type": "code",
   "execution_count": 15,
   "id": "34eb8c04-db66-4c01-9620-4a1043f8fd33",
   "metadata": {},
   "outputs": [
    {
     "name": "stdin",
     "output_type": "stream",
     "text": [
      "how many years? 13\n"
     ]
    },
    {
     "name": "stdout",
     "output_type": "stream",
     "text": [
      "t =  0 :  500 badgers,  1 dachshunds\n",
      "t =  1 :  598 badgers,  1 dachshunds\n",
      "t =  2 :  715 badgers,  1 dachshunds\n",
      "t =  3 :  854 badgers,  2 dachshunds\n",
      "t =  4 :  1016 badgers,  3 dachshunds\n",
      "t =  5 :  1204 badgers,  5 dachshunds\n",
      "t =  6 :  1415 badgers,  10 dachshunds\n",
      "t =  7 :  1627 badgers,  22 dachshunds\n",
      "t =  8 :  1773 badgers,  53 dachshunds\n",
      "t =  9 :  1658 badgers,  136 dachshunds\n",
      "t =  10 :  862 badgers,  334 dachshunds\n",
      "t =  11 :  -405 badgers,  555 dachshunds\n",
      "t =  12 :  638 badgers,  219 dachshunds\n",
      "t =  13 :  67 badgers,  315 dachshunds\n"
     ]
    }
   ],
   "source": [
    "#10pts Loop for calculating badgers/dachshunds over time\n",
    "years = int(input(\"how many years?\"))\n",
    "alpha = 0.2\n",
    "beta = 0.005\n",
    "delta = 0.001\n",
    "gamma = 0.2\n",
    "prev_badger_num = 500\n",
    "prev_dachshund_num = 1\n",
    "for i in range(0, years+1):\n",
    "    print(\"t = \", i, \": \", round(prev_badger_num), \"badgers, \", round(prev_dachshund_num), \"dachshunds\")\n",
    "    prev_badger_num, prev_dachshund_num = cur_bad_n_dach(prev_badger_num, prev_dachshund_num, alpha, beta, delta, gamma)\n",
    "    \n",
    "    "
   ]
  },
  {
   "cell_type": "markdown",
   "id": "9b393b4b-4715-4ade-ae5b-006a476d3e18",
   "metadata": {},
   "source": [
    "Now, I want you to copy paste the code from above to the cell below and change your so that you create two list that store the number of dachshund/badgers over time.  **You should also now stop your loop if one of the populations fall below 0.**"
   ]
  },
  {
   "cell_type": "code",
   "execution_count": null,
   "id": "c320e870-8ae4-4b9f-ba37-cc5190b86202",
   "metadata": {},
   "outputs": [],
   "source": [
    "#5pts Same code, but now using lists"
   ]
  },
  {
   "cell_type": "markdown",
   "id": "88b3e32a-6cc3-4fd0-b913-9c2dab8d8f03",
   "metadata": {},
   "source": [
    "Now, I want you to google how to make simple plot using matplotlib library.  Below please produce a plot of the number of animals on the y-axis over time on the x-axis.  Please lable the axis in the plot.  "
   ]
  },
  {
   "cell_type": "code",
   "execution_count": null,
   "id": "9f85bc07-d199-4ab3-84df-e1610ddd92af",
   "metadata": {},
   "outputs": [],
   "source": [
    "#5pts Plotting code"
   ]
  },
  {
   "cell_type": "markdown",
   "id": "b01b1dd9-cc3f-4d09-87a2-3e541072ea90",
   "metadata": {},
   "source": [
    "# How long can 200 badgers survive?\n",
    "Suppose at time=0, there are 200 badgers or Badger(0)=200.   How many dachshunds should be there be at time 0, such that the badgers survive distinction for the maximum possible number of years?  Your program will also will report the maximum possible number of years the badger will survive.   To solve this you, will want to consider values of Dachshund(0) starting from 1 to some large value, say 1000.   For each value of Dachshund(0), find the number of years the badgers will survive.  Your program will report the value of Dachshund(0) and t that maximizes the number of years that the badger survives.\n",
    "\n",
    "To start, you should copy the non-list version of your program below as a starting point. Your program will as iterate over this code so this will be a nested loop solution. \n",
    "\n",
    "With ___ dachshunds at time 0, badgers will survive for ___ years, which is the maximum possible years that ____ badgers could survive.\n",
    "\n",
    "\n"
   ]
  },
  {
   "cell_type": "code",
   "execution_count": null,
   "id": "2a22e860-bcbb-47f9-8308-1424c2dbbe3b",
   "metadata": {},
   "outputs": [],
   "source": [
    "#15pts How long can badgers survive?"
   ]
  },
  {
   "cell_type": "markdown",
   "id": "3bf8f840-05d8-481a-a112-15837ba9db5b",
   "metadata": {},
   "source": [
    "## Saving the badgers (we care about all animals here)\n",
    "Using the same fixed parameters from above, we are going to find the minimum number of badgers and related number of dachshunds such that the badger and dachshunds don't become extinct. Here's the algorithm we'll use:\n",
    "\n",
    "* Consider Badger(0)=1.  Your program will keep increasing initialization of Bager(0) by one if it's not possible for the badger to survive.\n",
    "* For each initialization of Badger(0), initial dachshunds should start at 1 and then go up to some large number like 400.\n",
    "* As soon as you find a combination of Badger(0) and Dachshund(0) for which there is no change in Badger(t) and Dachshund(t) for two consecutive years, you should break out of all loops and stop the program. You have found the values of Badger(0) and Dachshund(0) where both animals do not become extinct."
   ]
  },
  {
   "cell_type": "code",
   "execution_count": null,
   "id": "f66d92ed-a9a4-4e69-92e2-b5c8c0254129",
   "metadata": {},
   "outputs": [],
   "source": [
    "#15pts Save the badger!  Be sure to print out your result."
   ]
  },
  {
   "cell_type": "code",
   "execution_count": null,
   "id": "3440ba68-6cae-4ebd-b986-4032baa6f0bd",
   "metadata": {},
   "outputs": [],
   "source": []
  }
 ],
 "metadata": {
  "kernelspec": {
   "display_name": "Python 3 (ipykernel)",
   "language": "python",
   "name": "python3"
  },
  "language_info": {
   "codemirror_mode": {
    "name": "ipython",
    "version": 3
   },
   "file_extension": ".py",
   "mimetype": "text/x-python",
   "name": "python",
   "nbconvert_exporter": "python",
   "pygments_lexer": "ipython3",
   "version": "3.12.7"
  }
 },
 "nbformat": 4,
 "nbformat_minor": 5
}
